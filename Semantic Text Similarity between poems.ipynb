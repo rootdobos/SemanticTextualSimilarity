{
 "cells": [
  {
   "cell_type": "markdown",
   "id": "5ff0c7d9",
   "metadata": {},
   "source": [
    "# Searching Semantic Similarities between poems"
   ]
  },
  {
   "cell_type": "markdown",
   "id": "623d5bd0",
   "metadata": {},
   "source": [
    "## Problem Statement\n",
    "Poems can be semantically very different, they transmit different emotions, feelings and mental states. It is an interesting topic investigating the similarities between the them. If we can establish the semantic similarity between two poems, we can make further conclusions. This work has two sections. In the first one, I investigate the similarities between poets life-works. In the second part, I investigate the similarities between poems from different topics (like alone and anger). "
   ]
  },
  {
   "cell_type": "markdown",
   "id": "c42de575",
   "metadata": {},
   "source": [
    "## Proposed Solution\n",
    "For this task, the workflow is the next:\n",
    "* I import the corpus (in the first from a csv file, in the second case from txt files located in different subdirectories)\n",
    "* I do a preprocessing with removing stopwords, punctuation, short words and stemming the words\n",
    "* I make the dictionary and the bag of words from the preprocessed data\n",
    "* I check the unique topics (in the first case, I check the unique authors, types and ages, in the second case, I only have the topics)\n",
    "* I create the LSI (Latent Semantic Indexing) models, with an adequate topic_number\n",
    "* I calculate the vectors for each poem by using the LSI Model\n",
    "* I calculate the cosine similarity between each poem pair\n",
    "\n",
    "The last step is different in the first and in the second part. In the first one I create a database with all the poem pairs (I have 573 poem in this case), and then I use this database to calculate the similarities between poets. In the second case I don't create a database with similarities, I calculate directly everything. \n",
    "\n",
    "I do some other intermediate data analysis step"
   ]
  },
  {
   "cell_type": "markdown",
   "id": "ac8daab5",
   "metadata": {},
   "source": [
    "## The Implementation, Experiments and Results\n",
    "I didn't want to separate this 3 section because they are coherent in this way. I added comments for every codeblock to specify it."
   ]
  },
  {
   "cell_type": "markdown",
   "id": "bb80951c",
   "metadata": {},
   "source": [
    "Importing the data using pandas"
   ]
  },
  {
   "cell_type": "code",
   "execution_count": 5,
   "id": "0a3d912f",
   "metadata": {
    "scrolled": true
   },
   "outputs": [
    {
     "name": "stdout",
     "output_type": "stream",
     "text": [
      "2865\n"
     ]
    },
    {
     "data": {
      "text/html": [
       "<div>\n",
       "<style scoped>\n",
       "    .dataframe tbody tr th:only-of-type {\n",
       "        vertical-align: middle;\n",
       "    }\n",
       "\n",
       "    .dataframe tbody tr th {\n",
       "        vertical-align: top;\n",
       "    }\n",
       "\n",
       "    .dataframe thead th {\n",
       "        text-align: right;\n",
       "    }\n",
       "</style>\n",
       "<table border=\"1\" class=\"dataframe\">\n",
       "  <thead>\n",
       "    <tr style=\"text-align: right;\">\n",
       "      <th></th>\n",
       "      <th>author</th>\n",
       "      <th>content</th>\n",
       "      <th>poem name</th>\n",
       "      <th>age</th>\n",
       "      <th>type</th>\n",
       "    </tr>\n",
       "  </thead>\n",
       "  <tbody>\n",
       "    <tr>\n",
       "      <th>0</th>\n",
       "      <td>WILLIAM SHAKESPEARE</td>\n",
       "      <td>Let the bird of loudest lay\\r\\nOn the sole Ara...</td>\n",
       "      <td>The Phoenix and the Turtle</td>\n",
       "      <td>Renaissance</td>\n",
       "      <td>Mythology &amp; Folklore</td>\n",
       "    </tr>\n",
       "    <tr>\n",
       "      <th>1</th>\n",
       "      <td>DUCHESS OF NEWCASTLE MARGARET CAVENDISH</td>\n",
       "      <td>Sir Charles into my chamber coming in,\\r\\nWhen...</td>\n",
       "      <td>An Epilogue to the Above</td>\n",
       "      <td>Renaissance</td>\n",
       "      <td>Mythology &amp; Folklore</td>\n",
       "    </tr>\n",
       "    <tr>\n",
       "      <th>2</th>\n",
       "      <td>THOMAS BASTARD</td>\n",
       "      <td>Our vice runs beyond all that old men saw,\\r\\n...</td>\n",
       "      <td>Book 7, Epigram 42</td>\n",
       "      <td>Renaissance</td>\n",
       "      <td>Mythology &amp; Folklore</td>\n",
       "    </tr>\n",
       "    <tr>\n",
       "      <th>3</th>\n",
       "      <td>EDMUND SPENSER</td>\n",
       "      <td>Lo I the man, whose Muse whilome did maske,\\r\\...</td>\n",
       "      <td>from The Faerie Queene: Book I, Canto I</td>\n",
       "      <td>Renaissance</td>\n",
       "      <td>Mythology &amp; Folklore</td>\n",
       "    </tr>\n",
       "    <tr>\n",
       "      <th>4</th>\n",
       "      <td>RICHARD BARNFIELD</td>\n",
       "      <td>Long have I longd to see my love againe,\\r\\nSt...</td>\n",
       "      <td>Sonnet 16</td>\n",
       "      <td>Renaissance</td>\n",
       "      <td>Mythology &amp; Folklore</td>\n",
       "    </tr>\n",
       "  </tbody>\n",
       "</table>\n",
       "</div>"
      ],
      "text/plain": [
       "                                    author  \\\n",
       "0                      WILLIAM SHAKESPEARE   \n",
       "1  DUCHESS OF NEWCASTLE MARGARET CAVENDISH   \n",
       "2                           THOMAS BASTARD   \n",
       "3                           EDMUND SPENSER   \n",
       "4                        RICHARD BARNFIELD   \n",
       "\n",
       "                                             content  \\\n",
       "0  Let the bird of loudest lay\\r\\nOn the sole Ara...   \n",
       "1  Sir Charles into my chamber coming in,\\r\\nWhen...   \n",
       "2  Our vice runs beyond all that old men saw,\\r\\n...   \n",
       "3  Lo I the man, whose Muse whilome did maske,\\r\\...   \n",
       "4  Long have I longd to see my love againe,\\r\\nSt...   \n",
       "\n",
       "                                 poem name          age                  type  \n",
       "0               The Phoenix and the Turtle  Renaissance  Mythology & Folklore  \n",
       "1                 An Epilogue to the Above  Renaissance  Mythology & Folklore  \n",
       "2                       Book 7, Epigram 42  Renaissance  Mythology & Folklore  \n",
       "3  from The Faerie Queene: Book I, Canto I  Renaissance  Mythology & Folklore  \n",
       "4                                Sonnet 16  Renaissance  Mythology & Folklore  "
      ]
     },
     "execution_count": 5,
     "metadata": {},
     "output_type": "execute_result"
    }
   ],
   "source": [
    "\n",
    "import pandas as pd\n",
    "\n",
    "# load data\n",
    "df = pd.read_csv('all.csv')\n",
    "print(df.size)\n",
    "df.head()"
   ]
  },
  {
   "cell_type": "markdown",
   "id": "432efde1",
   "metadata": {},
   "source": [
    "Gensim is a python library for NLP tasks, especially for semantic related tasks.\n",
    "https://radimrehurek.com/gensim/\n",
    "I found this library very usefull for my task"
   ]
  },
  {
   "cell_type": "code",
   "execution_count": 6,
   "id": "212ae026",
   "metadata": {},
   "outputs": [],
   "source": [
    "from gensim.parsing.preprocessing import remove_stopwords, strip_punctuation \\\n",
    "                                        , preprocess_string, strip_short, stem_text"
   ]
  },
  {
   "cell_type": "markdown",
   "id": "738e5d8b",
   "metadata": {},
   "source": [
    "Preprocess function for removing the stopwords, punctuation, short words and stemming the words."
   ]
  },
  {
   "cell_type": "code",
   "execution_count": 7,
   "id": "b18b9689",
   "metadata": {},
   "outputs": [],
   "source": [
    "# preprocess given text\n",
    "def preprocess(text):\n",
    "    \n",
    "    # clean text based on given filters\n",
    "    CUSTOM_FILTERS = [lambda x: x.lower(), \n",
    "                                remove_stopwords, \n",
    "                                strip_punctuation, \n",
    "                                strip_short, \n",
    "                                stem_text]\n",
    "    text = preprocess_string(text, CUSTOM_FILTERS)\n",
    "    \n",
    "    return text"
   ]
  },
  {
   "cell_type": "code",
   "execution_count": 8,
   "id": "46a2f38e",
   "metadata": {},
   "outputs": [],
   "source": [
    "# apply function to all text\n",
    "df['Text (Clean)'] = df['content'].apply(lambda x: preprocess(x))"
   ]
  },
  {
   "cell_type": "code",
   "execution_count": 9,
   "id": "c8836ed3",
   "metadata": {},
   "outputs": [
    {
     "data": {
      "text/html": [
       "<div>\n",
       "<style scoped>\n",
       "    .dataframe tbody tr th:only-of-type {\n",
       "        vertical-align: middle;\n",
       "    }\n",
       "\n",
       "    .dataframe tbody tr th {\n",
       "        vertical-align: top;\n",
       "    }\n",
       "\n",
       "    .dataframe thead th {\n",
       "        text-align: right;\n",
       "    }\n",
       "</style>\n",
       "<table border=\"1\" class=\"dataframe\">\n",
       "  <thead>\n",
       "    <tr style=\"text-align: right;\">\n",
       "      <th></th>\n",
       "      <th>author</th>\n",
       "      <th>content</th>\n",
       "      <th>poem name</th>\n",
       "      <th>age</th>\n",
       "      <th>type</th>\n",
       "      <th>Text (Clean)</th>\n",
       "    </tr>\n",
       "  </thead>\n",
       "  <tbody>\n",
       "    <tr>\n",
       "      <th>0</th>\n",
       "      <td>WILLIAM SHAKESPEARE</td>\n",
       "      <td>Let the bird of loudest lay\\r\\nOn the sole Ara...</td>\n",
       "      <td>The Phoenix and the Turtle</td>\n",
       "      <td>Renaissance</td>\n",
       "      <td>Mythology &amp; Folklore</td>\n",
       "      <td>[let, bird, loudest, lai, sole, arabian, tree,...</td>\n",
       "    </tr>\n",
       "    <tr>\n",
       "      <th>1</th>\n",
       "      <td>DUCHESS OF NEWCASTLE MARGARET CAVENDISH</td>\n",
       "      <td>Sir Charles into my chamber coming in,\\r\\nWhen...</td>\n",
       "      <td>An Epilogue to the Above</td>\n",
       "      <td>Renaissance</td>\n",
       "      <td>Mythology &amp; Folklore</td>\n",
       "      <td>[sir, charl, chamber, come, write, fairi, quee...</td>\n",
       "    </tr>\n",
       "    <tr>\n",
       "      <th>2</th>\n",
       "      <td>THOMAS BASTARD</td>\n",
       "      <td>Our vice runs beyond all that old men saw,\\r\\n...</td>\n",
       "      <td>Book 7, Epigram 42</td>\n",
       "      <td>Renaissance</td>\n",
       "      <td>Mythology &amp; Folklore</td>\n",
       "      <td>[vice, run, old, men, saw, far, authent, law, ...</td>\n",
       "    </tr>\n",
       "    <tr>\n",
       "      <th>3</th>\n",
       "      <td>EDMUND SPENSER</td>\n",
       "      <td>Lo I the man, whose Muse whilome did maske,\\r\\...</td>\n",
       "      <td>from The Faerie Queene: Book I, Canto I</td>\n",
       "      <td>Renaissance</td>\n",
       "      <td>Mythology &amp; Folklore</td>\n",
       "      <td>[man, muse, whilom, mask, time, taught, lowli,...</td>\n",
       "    </tr>\n",
       "    <tr>\n",
       "      <th>4</th>\n",
       "      <td>RICHARD BARNFIELD</td>\n",
       "      <td>Long have I longd to see my love againe,\\r\\nSt...</td>\n",
       "      <td>Sonnet 16</td>\n",
       "      <td>Renaissance</td>\n",
       "      <td>Mythology &amp; Folklore</td>\n",
       "      <td>[long, longd, love, again, wisht, obtain, worl...</td>\n",
       "    </tr>\n",
       "  </tbody>\n",
       "</table>\n",
       "</div>"
      ],
      "text/plain": [
       "                                    author  \\\n",
       "0                      WILLIAM SHAKESPEARE   \n",
       "1  DUCHESS OF NEWCASTLE MARGARET CAVENDISH   \n",
       "2                           THOMAS BASTARD   \n",
       "3                           EDMUND SPENSER   \n",
       "4                        RICHARD BARNFIELD   \n",
       "\n",
       "                                             content  \\\n",
       "0  Let the bird of loudest lay\\r\\nOn the sole Ara...   \n",
       "1  Sir Charles into my chamber coming in,\\r\\nWhen...   \n",
       "2  Our vice runs beyond all that old men saw,\\r\\n...   \n",
       "3  Lo I the man, whose Muse whilome did maske,\\r\\...   \n",
       "4  Long have I longd to see my love againe,\\r\\nSt...   \n",
       "\n",
       "                                 poem name          age                  type  \\\n",
       "0               The Phoenix and the Turtle  Renaissance  Mythology & Folklore   \n",
       "1                 An Epilogue to the Above  Renaissance  Mythology & Folklore   \n",
       "2                       Book 7, Epigram 42  Renaissance  Mythology & Folklore   \n",
       "3  from The Faerie Queene: Book I, Canto I  Renaissance  Mythology & Folklore   \n",
       "4                                Sonnet 16  Renaissance  Mythology & Folklore   \n",
       "\n",
       "                                        Text (Clean)  \n",
       "0  [let, bird, loudest, lai, sole, arabian, tree,...  \n",
       "1  [sir, charl, chamber, come, write, fairi, quee...  \n",
       "2  [vice, run, old, men, saw, far, authent, law, ...  \n",
       "3  [man, muse, whilom, mask, time, taught, lowli,...  \n",
       "4  [long, longd, love, again, wisht, obtain, worl...  "
      ]
     },
     "execution_count": 9,
     "metadata": {},
     "output_type": "execute_result"
    }
   ],
   "source": [
    "df.head()"
   ]
  },
  {
   "cell_type": "markdown",
   "id": "f556a81c",
   "metadata": {},
   "source": [
    "Creating the dictionary from all the data"
   ]
  },
  {
   "cell_type": "code",
   "execution_count": 10,
   "id": "71093db4",
   "metadata": {},
   "outputs": [
    {
     "data": {
      "text/plain": [
       "8150"
      ]
     },
     "execution_count": 10,
     "metadata": {},
     "output_type": "execute_result"
    }
   ],
   "source": [
    "from gensim import corpora\n",
    "\n",
    "# create a dictionary with the corpus\n",
    "corpus = df['Text (Clean)']\n",
    "dictionary = corpora.Dictionary(corpus)\n",
    "len(dictionary)"
   ]
  },
  {
   "cell_type": "markdown",
   "id": "7b665707",
   "metadata": {},
   "source": [
    "Creating the bag of words from every poem"
   ]
  },
  {
   "cell_type": "code",
   "execution_count": 11,
   "id": "d0fbcc24",
   "metadata": {},
   "outputs": [],
   "source": [
    "bow = [dictionary.doc2bow(text) for text in corpus]"
   ]
  },
  {
   "cell_type": "markdown",
   "id": "7a5aa354",
   "metadata": {},
   "source": [
    "Getting the authors, types, ages and the number of them"
   ]
  },
  {
   "cell_type": "code",
   "execution_count": 12,
   "id": "1446f6c7",
   "metadata": {},
   "outputs": [
    {
     "name": "stdout",
     "output_type": "stream",
     "text": [
      "67\n",
      "['WILLIAM SHAKESPEARE' 'DUCHESS OF NEWCASTLE MARGARET CAVENDISH'\n",
      " 'THOMAS BASTARD' 'EDMUND SPENSER' 'RICHARD BARNFIELD' 'SIR WALTER RALEGH'\n",
      " 'QUEEN ELIZABETH I' 'JOHN DONNE' 'JOHN SKELTON' 'CHRISTOPHER MARLOWE'\n",
      " 'LADY MARY WROTH' 'ROBERT SOUTHWELL, SJ' 'WILLIAM BYRD'\n",
      " 'GEORGE GASCOIGNE' 'HENRY VIII, KING OF ENGLAND' 'SIR THOMAS WYATT'\n",
      " 'EN JONSON' 'ORLANDO GIBBONS' 'THOMAS NASHE' 'SIR PHILIP SIDNEY'\n",
      " 'SECOND BARON VAUX OF HARROWDEN THOMAS, LORD VAUX'\n",
      " 'HENRY HOWARD, EARL OF SURREY' 'GEORGE CHAPMAN' 'THOMAS CAMPION'\n",
      " 'ISABELLA WHITNEY' 'SAMUEL DANIEL' 'THOMAS HEYWOOD'\n",
      " 'GIOVANNI BATTISTA GUARINI' 'SIR EDWARD DYER' 'THOMAS LODGE'\n",
      " 'JOHN FLETCHER' 'EDGAR LEE MASTERS' 'WILLIAM BUTLER YEATS'\n",
      " 'FORD MADOX FORD' 'IVOR GURNEY' 'CARL SANDBURG' 'EZRA POUND'\n",
      " 'ELINOR WYLIE' 'GEORGE SANTAYANA' 'LOUISE BOGAN' 'KENNETH SLESSOR'\n",
      " 'HART CRANE' 'D. H. LAWRENCE' 'HUGH MACDIARMID' 'E. E. CUMMINGS'\n",
      " 'LOUIS UNTERMEYER' 'WALLACE STEVENS' 'MARJORIE PICKTHALL'\n",
      " 'RICHARD ALDINGTON' 'GUILLAUME APOLLINAIRE' 'SAMUEL GREENBERG'\n",
      " 'STEPHEN SPENDER' 'EDITH SITWELL' 'PAUL LAURENCE DUNBAR' 'SARA TEASDALE'\n",
      " 'MINA LOY' 'MARIANNE MOORE' 'ASIL BUNTING' 'MICHAEL ANANIA'\n",
      " 'ARCHIBALD MACLEISH' 'CONRAD AIKEN' 'MALCOLM COWLEY'\n",
      " 'KATHERINE MANSFIELD' 'T. S. ELIOT' 'GERTRUDE STEIN' 'JAMES JOYCE'\n",
      " 'KENNETH FEARING']\n"
     ]
    }
   ],
   "source": [
    "unique_authors=df[\"author\"].unique()\n",
    "author_count= unique_authors.size\n",
    "print(author_count)\n",
    "print(unique_authors)"
   ]
  },
  {
   "cell_type": "code",
   "execution_count": 13,
   "id": "3580afbd",
   "metadata": {},
   "outputs": [
    {
     "name": "stdout",
     "output_type": "stream",
     "text": [
      "3\n",
      "['Mythology & Folklore' 'Nature' 'Love']\n"
     ]
    }
   ],
   "source": [
    "unique_types=df[\"type\"].unique()\n",
    "type_count= unique_types.size\n",
    "print(type_count)\n",
    "print(unique_types)"
   ]
  },
  {
   "cell_type": "code",
   "execution_count": 14,
   "id": "d9fb6e52",
   "metadata": {},
   "outputs": [
    {
     "name": "stdout",
     "output_type": "stream",
     "text": [
      "2\n",
      "['Renaissance' 'Modern']\n"
     ]
    }
   ],
   "source": [
    "unique_ages=df[\"age\"].unique()\n",
    "age_count= unique_ages.size\n",
    "print(age_count)\n",
    "print(unique_ages)"
   ]
  },
  {
   "cell_type": "markdown",
   "id": "ad45acba",
   "metadata": {},
   "source": [
    "The Gensim has an integrated tool to examine the coherence of the lsi model with the different topic numbers"
   ]
  },
  {
   "cell_type": "code",
   "execution_count": 15,
   "id": "5339b87e",
   "metadata": {},
   "outputs": [],
   "source": [
    "from gensim.models import LsiModel\n",
    "from gensim.models.coherencemodel import CoherenceModel\n",
    "\n",
    "def coherence(bow, dictionary,dataframe, number_of_topics):\n",
    "    \n",
    "    lsi = LsiModel(bow, num_topics=number_of_topics, id2word=dictionary)\n",
    "    coherence_model = CoherenceModel(model=lsi, texts=dataframe['Text (Clean)'], dictionary=dictionary, coherence='c_v')\n",
    "    coherence_score = coherence_model.get_coherence()\n",
    "    print('Coherence score with {} clusters: {}'.format(number_of_topics, coherence_score))"
   ]
  },
  {
   "cell_type": "code",
   "execution_count": 16,
   "id": "bbc2c6a5",
   "metadata": {},
   "outputs": [
    {
     "name": "stdout",
     "output_type": "stream",
     "text": [
      "Coherence score with 67 clusters: 0.3424824786575179\n",
      "Coherence score with 3 clusters: 0.29852522992593916\n",
      "Coherence score with 2 clusters: 0.48599839298029546\n"
     ]
    }
   ],
   "source": [
    "\n",
    "\n",
    "# find the coherence score with a different number of topics\n",
    "coherence(bow,dictionary,df,author_count)\n",
    "coherence(bow,dictionary,df,type_count)\n",
    "coherence(bow,dictionary,df,age_count)"
   ]
  },
  {
   "cell_type": "markdown",
   "id": "c29d1d42",
   "metadata": {},
   "source": [
    "I make LSA Model with different number of topics, based on author, type and age counts"
   ]
  },
  {
   "cell_type": "code",
   "execution_count": 17,
   "id": "64845444",
   "metadata": {},
   "outputs": [],
   "source": [
    "# Get the LsiModel to extract topics by author, type and age\n",
    "lsiAuthor = LsiModel(bow, num_topics=author_count, id2word=dictionary)\n",
    "lsiType= LsiModel(bow, num_topics=type_count, id2word=dictionary)\n",
    "lsiAge= LsiModel(bow, num_topics=age_count, id2word=dictionary)"
   ]
  },
  {
   "cell_type": "code",
   "execution_count": 18,
   "id": "81205e45",
   "metadata": {},
   "outputs": [
    {
     "name": "stdout",
     "output_type": "stream",
     "text": [
      "LsiModel<num_terms=8150, num_topics=67, decay=1.0, chunksize=20000>\n",
      "LsiModel<num_terms=8150, num_topics=3, decay=1.0, chunksize=20000>\n",
      "LsiModel<num_terms=8150, num_topics=2, decay=1.0, chunksize=20000>\n"
     ]
    }
   ],
   "source": [
    "print(lsiAuthor)\n",
    "print(lsiType)\n",
    "print(lsiAge)"
   ]
  },
  {
   "cell_type": "markdown",
   "id": "7d352f1b",
   "metadata": {},
   "source": [
    "I show the most dominant words"
   ]
  },
  {
   "cell_type": "code",
   "execution_count": null,
   "id": "762efd51",
   "metadata": {},
   "outputs": [],
   "source": [
    "\n",
    "# find the 5 words with the srongest association to the derived topics\n",
    "for topic_num, words in lsiAge.print_topics(num_words=7):\n",
    "    #print('Words in {}: {}.'.format(unique_ages[topic_num], words))\n",
    "    print('Words in {}: {}.'.format(topic_num, words))"
   ]
  },
  {
   "cell_type": "code",
   "execution_count": 19,
   "id": "35c997b6",
   "metadata": {},
   "outputs": [
    {
     "name": "stdout",
     "output_type": "stream",
     "text": [
      "Words in 0: -0.393*\"love\" + -0.236*\"thy\" + -0.187*\"let\" + -0.181*\"thou\" + -0.171*\"like\" + -0.158*\"doth\" + -0.157*\"dai\".\n",
      "Words in 1: 0.264*\"let\" + 0.249*\"ring\" + 0.240*\"sing\" + 0.229*\"answer\" + 0.223*\"doe\" + 0.219*\"wood\" + 0.212*\"eccho\".\n",
      "Words in 2: 0.367*\"thy\" + 0.353*\"thou\" + 0.294*\"love\" + 0.199*\"thee\" + -0.160*\"knight\" + -0.151*\"dai\" + -0.124*\"long\".\n"
     ]
    }
   ],
   "source": [
    "for topic_num, words in lsiType.print_topics(num_words=7):\n",
    "    print('Words in {}: {}.'.format(topic_num, words))"
   ]
  },
  {
   "cell_type": "code",
   "execution_count": null,
   "id": "43beb1be",
   "metadata": {
    "scrolled": false
   },
   "outputs": [],
   "source": [
    "for topic_num, words in lsiAuthor.print_topics(num_words=7,num_topics=author_count):\n",
    "    print('Words in {}: {}.'.format(topic_num, words))"
   ]
  },
  {
   "cell_type": "markdown",
   "id": "5fd0289b",
   "metadata": {},
   "source": [
    "I create the vectors with every LSA model"
   ]
  },
  {
   "cell_type": "code",
   "execution_count": 20,
   "id": "d169c2c8",
   "metadata": {},
   "outputs": [
    {
     "name": "stdout",
     "output_type": "stream",
     "text": [
      "3\n",
      "[(0, -6.867597239479573), (1, -0.5247497507662909), (2, 4.106418557667488)]\n"
     ]
    }
   ],
   "source": [
    "vectorsByType= []\n",
    "vectorsByAge= []\n",
    "vectorsByAuthor= []\n",
    "print(type_count)\n",
    "print(lsiType[bow[0]])\n",
    "for i in range(len(bow)):\n",
    "    tmp=[]\n",
    "    lsiResult=lsiType[bow[i]]\n",
    "    for j in range(len(lsiResult)):\n",
    "        tmp.append(lsiResult[j][1])\n",
    "    vectorsByType.append(tmp)\n",
    "    \n",
    "    tmp=[]\n",
    "    lsiResult=lsiAge[bow[i]]\n",
    "    for j in range(len(lsiResult)):\n",
    "        tmp.append(lsiResult[j][1])\n",
    "    vectorsByAge.append(tmp)\n",
    "    \n",
    "    tmp=[]\n",
    "    lsiResult=lsiAuthor[bow[i]]\n",
    "    for j in range(len(lsiResult)):\n",
    "        tmp.append(lsiResult[j][1])\n",
    "    vectorsByAuthor.append(tmp)\n",
    "#vectorsByType"
   ]
  },
  {
   "cell_type": "code",
   "execution_count": 21,
   "id": "4fcb50b4",
   "metadata": {},
   "outputs": [
    {
     "data": {
      "text/html": [
       "<div>\n",
       "<style scoped>\n",
       "    .dataframe tbody tr th:only-of-type {\n",
       "        vertical-align: middle;\n",
       "    }\n",
       "\n",
       "    .dataframe tbody tr th {\n",
       "        vertical-align: top;\n",
       "    }\n",
       "\n",
       "    .dataframe thead th {\n",
       "        text-align: right;\n",
       "    }\n",
       "</style>\n",
       "<table border=\"1\" class=\"dataframe\">\n",
       "  <thead>\n",
       "    <tr style=\"text-align: right;\">\n",
       "      <th></th>\n",
       "      <th>author</th>\n",
       "      <th>content</th>\n",
       "      <th>poem name</th>\n",
       "      <th>age</th>\n",
       "      <th>type</th>\n",
       "      <th>Text (Clean)</th>\n",
       "      <th>Type Vectors</th>\n",
       "      <th>Age Vectors</th>\n",
       "      <th>Author Vectors</th>\n",
       "    </tr>\n",
       "  </thead>\n",
       "  <tbody>\n",
       "    <tr>\n",
       "      <th>0</th>\n",
       "      <td>WILLIAM SHAKESPEARE</td>\n",
       "      <td>Let the bird of loudest lay\\r\\nOn the sole Ara...</td>\n",
       "      <td>The Phoenix and the Turtle</td>\n",
       "      <td>Renaissance</td>\n",
       "      <td>Mythology &amp; Folklore</td>\n",
       "      <td>[let, bird, loudest, lai, sole, arabian, tree,...</td>\n",
       "      <td>[-6.867597239479573, -0.5247497507662909, 4.10...</td>\n",
       "      <td>[-6.867596039270679, 0.5246910418492563]</td>\n",
       "      <td>[-6.867597671871322, 0.5247751864387397, 4.106...</td>\n",
       "    </tr>\n",
       "    <tr>\n",
       "      <th>1</th>\n",
       "      <td>DUCHESS OF NEWCASTLE MARGARET CAVENDISH</td>\n",
       "      <td>Sir Charles into my chamber coming in,\\r\\nWhen...</td>\n",
       "      <td>An Epilogue to the Above</td>\n",
       "      <td>Renaissance</td>\n",
       "      <td>Mythology &amp; Folklore</td>\n",
       "      <td>[sir, charl, chamber, come, write, fairi, quee...</td>\n",
       "      <td>[-1.0573484501334938, -0.35027298727717293, -0...</td>\n",
       "      <td>[-1.0573472129548063, 0.3503765473411159]</td>\n",
       "      <td>[-1.057351084215277, 0.35024062710954, -0.2722...</td>\n",
       "    </tr>\n",
       "    <tr>\n",
       "      <th>2</th>\n",
       "      <td>THOMAS BASTARD</td>\n",
       "      <td>Our vice runs beyond all that old men saw,\\r\\n...</td>\n",
       "      <td>Book 7, Epigram 42</td>\n",
       "      <td>Renaissance</td>\n",
       "      <td>Mythology &amp; Folklore</td>\n",
       "      <td>[vice, run, old, men, saw, far, authent, law, ...</td>\n",
       "      <td>[-0.7398660653281677, -0.32720794069232706, 0....</td>\n",
       "      <td>[-0.7398645563523165, 0.3271794687900115]</td>\n",
       "      <td>[-0.7398645533518676, 0.3271826621685193, 0.17...</td>\n",
       "    </tr>\n",
       "    <tr>\n",
       "      <th>3</th>\n",
       "      <td>EDMUND SPENSER</td>\n",
       "      <td>Lo I the man, whose Muse whilome did maske,\\r\\...</td>\n",
       "      <td>from The Faerie Queene: Book I, Canto I</td>\n",
       "      <td>Renaissance</td>\n",
       "      <td>Mythology &amp; Folklore</td>\n",
       "      <td>[man, muse, whilom, mask, time, taught, lowli,...</td>\n",
       "      <td>[-57.433127883019246, -33.53720225766729, -42....</td>\n",
       "      <td>[-57.43312625439801, 33.53719720898532]</td>\n",
       "      <td>[-57.43312703918107, 33.537196746804966, -42.1...</td>\n",
       "    </tr>\n",
       "    <tr>\n",
       "      <th>4</th>\n",
       "      <td>RICHARD BARNFIELD</td>\n",
       "      <td>Long have I longd to see my love againe,\\r\\nSt...</td>\n",
       "      <td>Sonnet 16</td>\n",
       "      <td>Renaissance</td>\n",
       "      <td>Mythology &amp; Folklore</td>\n",
       "      <td>[long, longd, love, again, wisht, obtain, worl...</td>\n",
       "      <td>[-2.7247887008230305, -0.14957818037096343, 0....</td>\n",
       "      <td>[-2.724789441235823, 0.14981755315922327]</td>\n",
       "      <td>[-2.72479599764268, 0.14972782670137247, 0.786...</td>\n",
       "    </tr>\n",
       "  </tbody>\n",
       "</table>\n",
       "</div>"
      ],
      "text/plain": [
       "                                    author  \\\n",
       "0                      WILLIAM SHAKESPEARE   \n",
       "1  DUCHESS OF NEWCASTLE MARGARET CAVENDISH   \n",
       "2                           THOMAS BASTARD   \n",
       "3                           EDMUND SPENSER   \n",
       "4                        RICHARD BARNFIELD   \n",
       "\n",
       "                                             content  \\\n",
       "0  Let the bird of loudest lay\\r\\nOn the sole Ara...   \n",
       "1  Sir Charles into my chamber coming in,\\r\\nWhen...   \n",
       "2  Our vice runs beyond all that old men saw,\\r\\n...   \n",
       "3  Lo I the man, whose Muse whilome did maske,\\r\\...   \n",
       "4  Long have I longd to see my love againe,\\r\\nSt...   \n",
       "\n",
       "                                 poem name          age                  type  \\\n",
       "0               The Phoenix and the Turtle  Renaissance  Mythology & Folklore   \n",
       "1                 An Epilogue to the Above  Renaissance  Mythology & Folklore   \n",
       "2                       Book 7, Epigram 42  Renaissance  Mythology & Folklore   \n",
       "3  from The Faerie Queene: Book I, Canto I  Renaissance  Mythology & Folklore   \n",
       "4                                Sonnet 16  Renaissance  Mythology & Folklore   \n",
       "\n",
       "                                        Text (Clean)  \\\n",
       "0  [let, bird, loudest, lai, sole, arabian, tree,...   \n",
       "1  [sir, charl, chamber, come, write, fairi, quee...   \n",
       "2  [vice, run, old, men, saw, far, authent, law, ...   \n",
       "3  [man, muse, whilom, mask, time, taught, lowli,...   \n",
       "4  [long, longd, love, again, wisht, obtain, worl...   \n",
       "\n",
       "                                        Type Vectors  \\\n",
       "0  [-6.867597239479573, -0.5247497507662909, 4.10...   \n",
       "1  [-1.0573484501334938, -0.35027298727717293, -0...   \n",
       "2  [-0.7398660653281677, -0.32720794069232706, 0....   \n",
       "3  [-57.433127883019246, -33.53720225766729, -42....   \n",
       "4  [-2.7247887008230305, -0.14957818037096343, 0....   \n",
       "\n",
       "                                 Age Vectors  \\\n",
       "0   [-6.867596039270679, 0.5246910418492563]   \n",
       "1  [-1.0573472129548063, 0.3503765473411159]   \n",
       "2  [-0.7398645563523165, 0.3271794687900115]   \n",
       "3    [-57.43312625439801, 33.53719720898532]   \n",
       "4  [-2.724789441235823, 0.14981755315922327]   \n",
       "\n",
       "                                      Author Vectors  \n",
       "0  [-6.867597671871322, 0.5247751864387397, 4.106...  \n",
       "1  [-1.057351084215277, 0.35024062710954, -0.2722...  \n",
       "2  [-0.7398645533518676, 0.3271826621685193, 0.17...  \n",
       "3  [-57.43312703918107, 33.537196746804966, -42.1...  \n",
       "4  [-2.72479599764268, 0.14972782670137247, 0.786...  "
      ]
     },
     "execution_count": 21,
     "metadata": {},
     "output_type": "execute_result"
    }
   ],
   "source": [
    "df['Type Vectors'] = vectorsByType\n",
    "df['Age Vectors'] = vectorsByAge\n",
    "df['Author Vectors'] = vectorsByAuthor\n",
    "df.head()"
   ]
  },
  {
   "cell_type": "markdown",
   "id": "0b647933",
   "metadata": {},
   "source": [
    "I visualize some vector on a heatmap from the same poem to investigate them"
   ]
  },
  {
   "cell_type": "code",
   "execution_count": 22,
   "id": "cbe98846",
   "metadata": {},
   "outputs": [],
   "source": [
    "\n",
    "tmpDF= pd.DataFrame(vectorsByType, index=df['author'], columns=range(len(vectorsByType[0])))"
   ]
  },
  {
   "cell_type": "code",
   "execution_count": 23,
   "id": "290a7eb3",
   "metadata": {},
   "outputs": [
    {
     "data": {
      "text/plain": [
       "<AxesSubplot:ylabel='author'>"
      ]
     },
     "execution_count": 23,
     "metadata": {},
     "output_type": "execute_result"
    },
    {
     "data": {
      "image/png": "[encoded data removed]",
      "text/plain": [
       "<Figure size 432x288 with 2 Axes>"
      ]
     },
     "metadata": {
      "needs_background": "light"
     },
     "output_type": "display_data"
    }
   ],
   "source": [
    "import seaborn as sns\n",
    "%matplotlib inline\n",
    "\n",
    "#sns.heatmap(tmpDF[tmpDF['index']==\"WILLIAM SHAKESPEARE\"].head(10), annot=True)\n",
    "\n",
    "sns.heatmap(tmpDF.filter(like=\"WILLIAM SHAKESPEARE\",axis=0).head(20), annot=True)"
   ]
  },
  {
   "cell_type": "code",
   "execution_count": 24,
   "id": "50ee4619",
   "metadata": {},
   "outputs": [
    {
     "data": {
      "text/plain": [
       "<AxesSubplot:ylabel='author'>"
      ]
     },
     "execution_count": 24,
     "metadata": {},
     "output_type": "execute_result"
    },
    {
     "data": {
      "image/png": "[encoded data removed]",
      "text/plain": [
       "<Figure size 432x288 with 2 Axes>"
      ]
     },
     "metadata": {
      "needs_background": "light"
     },
     "output_type": "display_data"
    }
   ],
   "source": [
    "sns.heatmap(tmpDF.filter(like=\"EZRA POUND\",axis=0).head(20), annot=True)"
   ]
  },
  {
   "cell_type": "markdown",
   "id": "cfd6e5be",
   "metadata": {},
   "source": [
    "Function for calculating the cosine similarity"
   ]
  },
  {
   "cell_type": "code",
   "execution_count": 1,
   "id": "b4349bdb",
   "metadata": {},
   "outputs": [],
   "source": [
    "import math \n",
    "\n",
    "def CosineSimilarity(vector1,vector2,dimension):\n",
    "    DotProduct=0\n",
    "    Dist1=0\n",
    "    Dist2=0\n",
    "    for i in range(dimension):\n",
    "        elem1=0;\n",
    "        elem2=0;\n",
    "        if(i<len(vector1)):\n",
    "            elem1=vector1[i]\n",
    "        if(i<len(vector2)):\n",
    "            elem2=vector2[i]\n",
    "        DotProduct+=elem1*elem2\n",
    "        Dist1+=math.pow(elem1,2)\n",
    "        Dist2+=math.pow(elem2,2)\n",
    "    Dist1=math.sqrt(Dist1)\n",
    "    Dist2=math.sqrt(Dist2)\n",
    "    return DotProduct/(Dist1*Dist2)"
   ]
  },
  {
   "cell_type": "markdown",
   "id": "8e3d5c9d",
   "metadata": {},
   "source": [
    "I calculated the cosine similarity between every poem and I created a database"
   ]
  },
  {
   "cell_type": "code",
   "execution_count": null,
   "id": "e01a9dcb",
   "metadata": {},
   "outputs": [],
   "source": [
    "author_similarity= pd.DataFrame(columns=[\"author1\",\"author2\",\"title1\",\"title2\",\"similarity\"])\n",
    "for i in range(len(bow)):\n",
    "    for j in range(i+1,len(bow)):\n",
    "        if(df['author'][i]!=df['author'][j] or df['poem name'][i]!=df['poem name'][j]):\n",
    "            similarity=CosineSimilarity(vectorsByType[i],vectorsByType[j],3)\n",
    "            author_similarity.loc[len(author_similarity.index)]=[df['author'][i],df['author'][j],df['poem name'][i],df['poem name'][j],similarity]\n",
    "    if(i%10==0):\n",
    "        print('Done {}.'.format(i))"
   ]
  },
  {
   "cell_type": "code",
   "execution_count": null,
   "id": "7f23d253",
   "metadata": {},
   "outputs": [],
   "source": [
    "author_similarity.to_csv('similarities.csv',index=False, encoding='utf-8')"
   ]
  },
  {
   "cell_type": "code",
   "execution_count": 26,
   "id": "34def2f3",
   "metadata": {},
   "outputs": [
    {
     "data": {
      "text/html": [
       "<div>\n",
       "<style scoped>\n",
       "    .dataframe tbody tr th:only-of-type {\n",
       "        vertical-align: middle;\n",
       "    }\n",
       "\n",
       "    .dataframe tbody tr th {\n",
       "        vertical-align: top;\n",
       "    }\n",
       "\n",
       "    .dataframe thead th {\n",
       "        text-align: right;\n",
       "    }\n",
       "</style>\n",
       "<table border=\"1\" class=\"dataframe\">\n",
       "  <thead>\n",
       "    <tr style=\"text-align: right;\">\n",
       "      <th></th>\n",
       "      <th>author1</th>\n",
       "      <th>author2</th>\n",
       "      <th>title1</th>\n",
       "      <th>title2</th>\n",
       "      <th>similarity</th>\n",
       "    </tr>\n",
       "  </thead>\n",
       "  <tbody>\n",
       "    <tr>\n",
       "      <th>0</th>\n",
       "      <td>WILLIAM SHAKESPEARE</td>\n",
       "      <td>DUCHESS OF NEWCASTLE MARGARET CAVENDISH</td>\n",
       "      <td>The Phoenix and the Turtle</td>\n",
       "      <td>An Epilogue to the Above</td>\n",
       "      <td>0.688203</td>\n",
       "    </tr>\n",
       "    <tr>\n",
       "      <th>1</th>\n",
       "      <td>WILLIAM SHAKESPEARE</td>\n",
       "      <td>THOMAS BASTARD</td>\n",
       "      <td>The Phoenix and the Turtle</td>\n",
       "      <td>Book 7, Epigram 42</td>\n",
       "      <td>0.900628</td>\n",
       "    </tr>\n",
       "    <tr>\n",
       "      <th>2</th>\n",
       "      <td>WILLIAM SHAKESPEARE</td>\n",
       "      <td>EDMUND SPENSER</td>\n",
       "      <td>The Phoenix and the Turtle</td>\n",
       "      <td>from The Faerie Queene: Book I, Canto I</td>\n",
       "      <td>0.378722</td>\n",
       "    </tr>\n",
       "    <tr>\n",
       "      <th>3</th>\n",
       "      <td>WILLIAM SHAKESPEARE</td>\n",
       "      <td>RICHARD BARNFIELD</td>\n",
       "      <td>The Phoenix and the Turtle</td>\n",
       "      <td>Sonnet 16</td>\n",
       "      <td>0.966931</td>\n",
       "    </tr>\n",
       "    <tr>\n",
       "      <th>4</th>\n",
       "      <td>WILLIAM SHAKESPEARE</td>\n",
       "      <td>RICHARD BARNFIELD</td>\n",
       "      <td>The Phoenix and the Turtle</td>\n",
       "      <td>Sonnet 17</td>\n",
       "      <td>0.973450</td>\n",
       "    </tr>\n",
       "  </tbody>\n",
       "</table>\n",
       "</div>"
      ],
      "text/plain": [
       "               author1                                  author2  \\\n",
       "0  WILLIAM SHAKESPEARE  DUCHESS OF NEWCASTLE MARGARET CAVENDISH   \n",
       "1  WILLIAM SHAKESPEARE                           THOMAS BASTARD   \n",
       "2  WILLIAM SHAKESPEARE                           EDMUND SPENSER   \n",
       "3  WILLIAM SHAKESPEARE                        RICHARD BARNFIELD   \n",
       "4  WILLIAM SHAKESPEARE                        RICHARD BARNFIELD   \n",
       "\n",
       "                       title1                                   title2  \\\n",
       "0  The Phoenix and the Turtle                 An Epilogue to the Above   \n",
       "1  The Phoenix and the Turtle                       Book 7, Epigram 42   \n",
       "2  The Phoenix and the Turtle  from The Faerie Queene: Book I, Canto I   \n",
       "3  The Phoenix and the Turtle                                Sonnet 16   \n",
       "4  The Phoenix and the Turtle                                Sonnet 17   \n",
       "\n",
       "   similarity  \n",
       "0    0.688203  \n",
       "1    0.900628  \n",
       "2    0.378722  \n",
       "3    0.966931  \n",
       "4    0.973450  "
      ]
     },
     "execution_count": 26,
     "metadata": {},
     "output_type": "execute_result"
    }
   ],
   "source": [
    "author_df = pd.read_csv('similarities.csv')\n",
    "author_df.head()"
   ]
  },
  {
   "cell_type": "markdown",
   "id": "824630b8",
   "metadata": {},
   "source": [
    "The database contains 163814 poem pair"
   ]
  },
  {
   "cell_type": "code",
   "execution_count": 27,
   "id": "76a90dc0",
   "metadata": {},
   "outputs": [
    {
     "data": {
      "text/plain": [
       "163814"
      ]
     },
     "execution_count": 27,
     "metadata": {},
     "output_type": "execute_result"
    }
   ],
   "source": [
    "author_df.shape[0]"
   ]
  },
  {
   "cell_type": "markdown",
   "id": "309653ad",
   "metadata": {},
   "source": [
    "Based on the cosine similarity database, I calculate the similarity between to author poems"
   ]
  },
  {
   "cell_type": "code",
   "execution_count": 28,
   "id": "77b5e82f",
   "metadata": {},
   "outputs": [],
   "source": [
    "def CompareAuthors(author1,author2,author_df):\n",
    "    count=0\n",
    "    avgSim=0\n",
    "    lowestSimilarity=1\n",
    "    #leastSimilarTitles\n",
    "    highestSimilarity=0\n",
    "    #mostSimilarTitles\n",
    "    for i in range(author_df.shape[0]):\n",
    "        if((author_df['author1'][i]==author1 and  author_df['author2'][i]==author2)or (author_df['author1'][i]==author2 and  author_df['author2'][i]==author1)):\n",
    "            count+=1\n",
    "            avgSim+=author_df['similarity'][i];\n",
    "            if(lowestSimilarity>author_df['similarity'][i]):\n",
    "                lowestSimilarity=author_df['similarity'][i]\n",
    "                leastSimilarTitles= (author_df['title1'][i],author_df['title2'][i])\n",
    "            if(highestSimilarity<author_df['similarity'][i]):\n",
    "                highestSimilarity=author_df['similarity'][i]\n",
    "                mostSimilarTitles= (author_df['title1'][i],author_df['title2'][i])    \n",
    "\n",
    "    print(\"Compared Poem Pairs: \"+str(count))\n",
    "    print(author1)\n",
    "    print(author2)\n",
    "    avgSim= avgSim/count;\n",
    "\n",
    "    print(\"Average Similarity: \"+str(avgSim))\n",
    "    print(\"Lowest Similarity: \"+str(lowestSimilarity ))\n",
    "    print(\"Least Similar Titles: \"+str(leastSimilarTitles))\n",
    "    print(\"Highest Similarity: \"+str(highestSimilarity ))\n",
    "    print(\"Most Similar Titles: \"+str(mostSimilarTitles))"
   ]
  },
  {
   "cell_type": "markdown",
   "id": "39a50af1",
   "metadata": {},
   "source": [
    "I apply the function to different poets and we can see the result below:"
   ]
  },
  {
   "cell_type": "code",
   "execution_count": 29,
   "id": "ed9562e1",
   "metadata": {},
   "outputs": [
    {
     "name": "stdout",
     "output_type": "stream",
     "text": [
      "Compared Poem Pairs: 2414\n",
      "WILLIAM SHAKESPEARE\n",
      "EDMUND SPENSER\n",
      "Average Similarity: 0.8090573409577477\n",
      "Lowest Similarity: -0.011479325\n",
      "Least Similar Titles: ('from The Faerie Queene: Book I, Canto I', 'Song of the Witches: Double, double toil and trouble')\n",
      "Highest Similarity: 0.999944143\n",
      "Most Similar Titles: ('Sonnet 33: Full many a glorious morning have I seen', 'Amoretti XXX: My Love is like to ice, and I to fire')\n"
     ]
    }
   ],
   "source": [
    "CompareAuthors(\"WILLIAM SHAKESPEARE\",\"EDMUND SPENSER\",author_df)"
   ]
  },
  {
   "cell_type": "markdown",
   "id": "f20bcda2",
   "metadata": {},
   "source": [
    "We can give the same name for both poet, in this case, we can see how similar the poems of the same poet:"
   ]
  },
  {
   "cell_type": "code",
   "execution_count": 30,
   "id": "67fcdfc1",
   "metadata": {},
   "outputs": [
    {
     "name": "stdout",
     "output_type": "stream",
     "text": [
      "Compared Poem Pairs: 2476\n",
      "WILLIAM SHAKESPEARE\n",
      "WILLIAM SHAKESPEARE\n",
      "Average Similarity: 0.8444626051207582\n",
      "Lowest Similarity: 0.05576432\n",
      "Least Similar Titles: ('Song: When that I was and a little tiny boy (With hey, ho, the wind and the rain)', 'Sonnet 146: Poor soul, the centre of my sinful earth,')\n",
      "Highest Similarity: 0.99997915\n",
      "Most Similar Titles: ('Sonnet 125: Weret aught to me I bore the canopy', 'Sonnet 133: Beshrew that heart that makes my heart to groan')\n"
     ]
    }
   ],
   "source": [
    "CompareAuthors(\"WILLIAM SHAKESPEARE\",\"WILLIAM SHAKESPEARE\",author_df)"
   ]
  },
  {
   "cell_type": "markdown",
   "id": "634a4672",
   "metadata": {},
   "source": [
    "In the second part, I load another database based on different topics"
   ]
  },
  {
   "cell_type": "code",
   "execution_count": 31,
   "id": "b0d6e918",
   "metadata": {},
   "outputs": [],
   "source": [
    "from glob import glob\n",
    "topics= glob(\"topics/*\", recursive = True)\n",
    "\n"
   ]
  },
  {
   "cell_type": "markdown",
   "id": "18439e30",
   "metadata": {},
   "source": [
    "Loading the data from subdirectories and creating a dataframe"
   ]
  },
  {
   "cell_type": "code",
   "execution_count": 32,
   "id": "d11b816c",
   "metadata": {},
   "outputs": [],
   "source": [
    "import glob\n",
    "\n",
    "\n",
    "topic_dataframe= pd.DataFrame(columns=[\"topic\",\"content\"])\n",
    "for topic in topics:\n",
    "    #print(topic)\n",
    "    topic_name=topic.split(\"\\\\\")[1]\n",
    "    for files in glob.glob(topic +\"\\*.txt\"):\n",
    "        #print(files)\n",
    "        file = open(files,encoding=\"utf8\")\n",
    "        #dfElement={'topic':topic_name,'content':file.read()}\n",
    "        #dfElement=pd.DataFrame([[topic_name,file.read()]],columns=[\"topic\",\"content\"])\n",
    "        topic_dataframe.loc[len(topic_dataframe.index)]=[topic_name,file.read()]"
   ]
  },
  {
   "cell_type": "code",
   "execution_count": 33,
   "id": "45c9ce4f",
   "metadata": {},
   "outputs": [
    {
     "name": "stdout",
     "output_type": "stream",
     "text": [
      "   topic                                            content\n",
      "0  alone  loneliness\\nhis childhood\\nwarms him up\\nlonel...\n",
      "1  alone  Sit in a chair\\nalone\\nPeople I thought were\\n...\n",
      "2  alone  Tell me why it has to be this way\\nwhy I must ...\n",
      "3  alone  A debtor to mercy alone, of covenant mercy I s...\n",
      "4  alone  A year has been passed since I left home\\nAgai...\n",
      "14335\n"
     ]
    }
   ],
   "source": [
    "topic_dataframe.size\n",
    "print(topic_dataframe.head())\n",
    "print(topic_dataframe.shape[0])"
   ]
  },
  {
   "cell_type": "markdown",
   "id": "f0078613",
   "metadata": {},
   "source": [
    "List of all unique topic"
   ]
  },
  {
   "cell_type": "code",
   "execution_count": 34,
   "id": "056dd0d8",
   "metadata": {},
   "outputs": [
    {
     "name": "stdout",
     "output_type": "stream",
     "text": [
      "144\n",
      "['alone' 'america' 'angel' 'anger' 'animal' 'baby' 'beach' 'beautiful'\n",
      " 'beauty' 'believe' 'birth' 'brother' 'butterfly' 'car' 'carpe diem'\n",
      " 'change' 'chicago' 'childhood' 'children' 'christmas' 'cinderella' 'city'\n",
      " 'courage' 'crazy' 'culture' 'dance' 'dark' 'daughter' 'death'\n",
      " 'depression' 'despair' 'destiny' 'dream' 'evil' 'faith' 'family' 'father'\n",
      " 'fear' 'fire' 'food' 'football' 'freedom' 'friend' 'frog' 'funeral'\n",
      " 'funny' 'future' 'girl' 'god' 'graduation' 'greed' 'green' 'hair'\n",
      " 'happiness' 'happy' 'hate' 'heaven' 'hero' 'home' 'hope' 'house'\n",
      " 'hunting' 'husband' 'identity' 'innocence' 'january' 'joy' 'june'\n",
      " 'justice' 'kiss' 'laughter' 'life' 'lonely' 'loss' 'lost' 'love' 'lust'\n",
      " 'marriage' 'memory' 'mirror' 'money' 'moon' 'mother' 'murder' 'music'\n",
      " 'nature' 'night' 'ocean' 'paris' 'passion' 'peace' 'pink' 'poem' 'poetry'\n",
      " 'poverty' 'power' 'racism' 'rain' 'rainbow' 'red' 'remember' 'respect'\n",
      " 'river' 'romance' 'romantic' 'rose' 'running' 'school' 'sea' 'sick'\n",
      " 'silver' 'sister' 'sky' 'sleep' 'snake' 'soldier' 'sometimes' 'son'\n",
      " 'song' 'sorrow' 'spring' 'star' 'success' 'suicide' 'summer' 'sun'\n",
      " 'swimming' 'sympathy' 'teacher' 'thanks' 'time' 'today' 'together'\n",
      " 'travel' 'trust' 'truth' 'war' 'warning' 'water' 'weather' 'wedding'\n",
      " 'winter' 'work' 'world']\n"
     ]
    }
   ],
   "source": [
    "unique_types=topic_dataframe[\"topic\"].unique()\n",
    "type_count= unique_types.size\n",
    "print(type_count)\n",
    "print(unique_types)"
   ]
  },
  {
   "cell_type": "markdown",
   "id": "84adc071",
   "metadata": {},
   "source": [
    "The next steps are the same as in the first part:"
   ]
  },
  {
   "cell_type": "code",
   "execution_count": 35,
   "id": "e22556b2",
   "metadata": {},
   "outputs": [],
   "source": [
    "topic_dataframe['Text (Clean)'] = topic_dataframe['content'].apply(lambda x: preprocess(x))"
   ]
  },
  {
   "cell_type": "code",
   "execution_count": 36,
   "id": "bef98224",
   "metadata": {},
   "outputs": [
    {
     "data": {
      "text/html": [
       "<div>\n",
       "<style scoped>\n",
       "    .dataframe tbody tr th:only-of-type {\n",
       "        vertical-align: middle;\n",
       "    }\n",
       "\n",
       "    .dataframe tbody tr th {\n",
       "        vertical-align: top;\n",
       "    }\n",
       "\n",
       "    .dataframe thead th {\n",
       "        text-align: right;\n",
       "    }\n",
       "</style>\n",
       "<table border=\"1\" class=\"dataframe\">\n",
       "  <thead>\n",
       "    <tr style=\"text-align: right;\">\n",
       "      <th></th>\n",
       "      <th>topic</th>\n",
       "      <th>content</th>\n",
       "      <th>Text (Clean)</th>\n",
       "    </tr>\n",
       "  </thead>\n",
       "  <tbody>\n",
       "    <tr>\n",
       "      <th>0</th>\n",
       "      <td>alone</td>\n",
       "      <td>loneliness\\nhis childhood\\nwarms him up\\nlonel...</td>\n",
       "      <td>[loneli, childhood, warm, loneli, warm, childh...</td>\n",
       "    </tr>\n",
       "    <tr>\n",
       "      <th>1</th>\n",
       "      <td>alone</td>\n",
       "      <td>Sit in a chair\\nalone\\nPeople I thought were\\n...</td>\n",
       "      <td>[sit, chair, peopl, thought, friend, sit, awai...</td>\n",
       "    </tr>\n",
       "    <tr>\n",
       "      <th>2</th>\n",
       "      <td>alone</td>\n",
       "      <td>Tell me why it has to be this way\\nwhy I must ...</td>\n",
       "      <td>[tell, wai, face, life, sanctuari, thought, st...</td>\n",
       "    </tr>\n",
       "    <tr>\n",
       "      <th>3</th>\n",
       "      <td>alone</td>\n",
       "      <td>A debtor to mercy alone, of covenant mercy I s...</td>\n",
       "      <td>[debtor, merci, alon, coven, merci, sing, fear...</td>\n",
       "    </tr>\n",
       "    <tr>\n",
       "      <th>4</th>\n",
       "      <td>alone</td>\n",
       "      <td>A year has been passed since I left home\\nAgai...</td>\n",
       "      <td>[year, pass, left, home, life, lone, militari,...</td>\n",
       "    </tr>\n",
       "  </tbody>\n",
       "</table>\n",
       "</div>"
      ],
      "text/plain": [
       "   topic                                            content  \\\n",
       "0  alone  loneliness\\nhis childhood\\nwarms him up\\nlonel...   \n",
       "1  alone  Sit in a chair\\nalone\\nPeople I thought were\\n...   \n",
       "2  alone  Tell me why it has to be this way\\nwhy I must ...   \n",
       "3  alone  A debtor to mercy alone, of covenant mercy I s...   \n",
       "4  alone  A year has been passed since I left home\\nAgai...   \n",
       "\n",
       "                                        Text (Clean)  \n",
       "0  [loneli, childhood, warm, loneli, warm, childh...  \n",
       "1  [sit, chair, peopl, thought, friend, sit, awai...  \n",
       "2  [tell, wai, face, life, sanctuari, thought, st...  \n",
       "3  [debtor, merci, alon, coven, merci, sing, fear...  \n",
       "4  [year, pass, left, home, life, lone, militari,...  "
      ]
     },
     "execution_count": 36,
     "metadata": {},
     "output_type": "execute_result"
    }
   ],
   "source": [
    "topic_dataframe.head()"
   ]
  },
  {
   "cell_type": "markdown",
   "id": "629c9e83",
   "metadata": {},
   "source": [
    "Creating and applying the LSA model"
   ]
  },
  {
   "cell_type": "code",
   "execution_count": 37,
   "id": "fa8539cc",
   "metadata": {},
   "outputs": [],
   "source": [
    "corpus = topic_dataframe['Text (Clean)']\n",
    "dictionary = corpora.Dictionary(corpus)"
   ]
  },
  {
   "cell_type": "code",
   "execution_count": 38,
   "id": "31a5404d",
   "metadata": {},
   "outputs": [],
   "source": [
    "bow = [dictionary.doc2bow(text) for text in corpus]"
   ]
  },
  {
   "cell_type": "code",
   "execution_count": 39,
   "id": "ff8885c6",
   "metadata": {},
   "outputs": [],
   "source": [
    "lsiTopic= LsiModel(bow, num_topics=type_count, id2word=dictionary)"
   ]
  },
  {
   "cell_type": "code",
   "execution_count": 40,
   "id": "d3abce45",
   "metadata": {},
   "outputs": [
    {
     "name": "stdout",
     "output_type": "stream",
     "text": [
      "144\n",
      "[(0, -0.41591386873945785), (1, -0.12568260737852185), (2, 0.16847088095203153)]\n"
     ]
    }
   ],
   "source": [
    "vectors= []\n",
    "fullvectors=[]\n",
    "print(type_count)\n",
    "print(lsiType[bow[0]])\n",
    "for i in range(len(bow)):\n",
    "    tmp=[]\n",
    "    lsiResult=lsiType[bow[i]]\n",
    "    fullvectors.append(lsiResult)\n",
    "    for j in range(len(lsiResult)):\n",
    "        tmp.append(lsiResult[j][1])\n",
    "    vectors.append(tmp)\n",
    "#vectors"
   ]
  },
  {
   "cell_type": "markdown",
   "id": "20cc6c08",
   "metadata": {},
   "source": [
    "Function for calculating the topic similarities. Similarly with the authors, we compare the poem pairs cosine similarities from the two topic and we calculate an average, a miminum and a maximum"
   ]
  },
  {
   "cell_type": "code",
   "execution_count": 46,
   "id": "e0d4ccf3",
   "metadata": {},
   "outputs": [],
   "source": [
    "def TopicSimilarities(topic1,topic2,topic_dataframe,vectors):\n",
    "    topic1_df = topic_dataframe.loc[topic_dataframe['topic'] ==topic1] \n",
    "    print(\"Topic1 poems: \"+str(topic1_df.shape[0]))\n",
    "    topic2_df = topic_dataframe.loc[topic_dataframe['topic'] ==topic2] \n",
    "    print(\"Topic2 poems: \"+str(topic2_df.shape[0]))\n",
    "    topic_similarity= pd.DataFrame(columns=[\"similarity\"])\n",
    "    for i in topic1_df.index:\n",
    "        for j in topic2_df.index:\n",
    "            similarity=CosineSimilarity(vectors[i],vectors[j],3)\n",
    "            topic_similarity.loc[len(topic_similarity.index)]=[similarity]\n",
    "    print(\"Calculated Cosine Similarities\")\n",
    "    count=0\n",
    "    avgSim=0\n",
    "    lowestSimilarity=1\n",
    "    highestSimilarity=0\n",
    "    for i in range(topic_similarity.shape[0]):\n",
    "        count+=1\n",
    "        avgSim+=topic_similarity['similarity'][i];\n",
    "        if(lowestSimilarity>topic_similarity['similarity'][i]):\n",
    "            lowestSimilarity=topic_similarity['similarity'][i]\n",
    "        if(highestSimilarity<topic_similarity['similarity'][i]):\n",
    "            highestSimilarity=topic_similarity['similarity'][i]  \n",
    "\n",
    "    print(\"Compared Poem Pairs: \"+str(count))\n",
    "    avgSim= avgSim/count;\n",
    "\n",
    "    print(\"Average Similarity: \"+str(avgSim))\n",
    "    print(\"Lowest Similarity: \"+str(lowestSimilarity ))\n",
    "    print(\"Highest Similarity: \"+str(highestSimilarity ))   "
   ]
  },
  {
   "cell_type": "code",
   "execution_count": null,
   "id": "1c3f8ce5",
   "metadata": {},
   "outputs": [],
   "source": [
    "TopicSimilarities(\"alone\",\"anger\",topic_dataframe,vectors)"
   ]
  }
 ],
 "metadata": {
  "kernelspec": {
   "display_name": "Python 3 (ipykernel)",
   "language": "python",
   "name": "python3"
  },
  "language_info": {
   "codemirror_mode": {
    "name": "ipython",
    "version": 3
   },
   "file_extension": ".py",
   "mimetype": "text/x-python",
   "name": "python",
   "nbconvert_exporter": "python",
   "pygments_lexer": "ipython3",
   "version": "3.9.5"
  }
 },
 "nbformat": 4,
 "nbformat_minor": 5
}
